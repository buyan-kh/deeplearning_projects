{
 "cells": [
  {
   "cell_type": "markdown",
   "id": "6fbd17d8-6ca8-4a94-9b47-e1f75492acd7",
   "metadata": {},
   "source": [
    "## Goal:\n",
    "* To understand how deep learning works on a deep level\n",
    "* To understand how to make code more efficient using vectorization\n",
    "* Implement neural network from scratch and understand all the math along the way"
   ]
  },
  {
   "cell_type": "markdown",
   "id": "942b2bf8-6fc7-4014-a8b1-675eca960b9b",
   "metadata": {},
   "source": [
    "chain rule: f(g(x)) = f'(g(x)) * g'(x)"
   ]
  },
  {
   "cell_type": "code",
   "execution_count": 3,
   "id": "9c548f5c-ad1f-4c4c-af01-e10f589021fa",
   "metadata": {},
   "outputs": [
    {
     "name": "stdout",
     "output_type": "stream",
     "text": [
      "layer 0 / input layer size 2\n",
      "layer 1 size 3\n",
      "layer 2 size 3\n",
      "layer 3 size 1\n"
     ]
    }
   ],
   "source": [
    "n = [2, 3, 3, 1]\n",
    "print(\"layer 0 / input layer size\", n[0])\n",
    "print(\"layer 1 size\", n[1])\n",
    "print(\"layer 2 size\", n[2])\n",
    "print(\"layer 3 size\", n[3])"
   ]
  },
  {
   "cell_type": "code",
   "execution_count": 4,
   "id": "d5fa6067-4dfc-4967-8c7f-923e6e3b88c3",
   "metadata": {},
   "outputs": [],
   "source": [
    "import numpy as np"
   ]
  },
  {
   "cell_type": "code",
   "execution_count": 5,
   "id": "45ad6196-2803-46bc-9368-880bbc4cce48",
   "metadata": {},
   "outputs": [],
   "source": [
    "W1 = np.random.randn(n[1], n[0])\n",
    "W2 = np.random.randn(n[2], n[1])\n",
    "W3 = np.random.randn(n[3], n[2])\n",
    "b1 = np.random.randn(n[1], 1)\n",
    "b2 = np.random.randn(n[2], 1)\n",
    "b3 = np.random.randn(n[3], 1)"
   ]
  },
  {
   "cell_type": "code",
   "execution_count": 6,
   "id": "2edda9ad-0252-4f47-b4fa-89139abe88d0",
   "metadata": {},
   "outputs": [
    {
     "name": "stdout",
     "output_type": "stream",
     "text": [
      "Weights for layer 1 shape: (3, 2)\n",
      "Weights for layer 2 shape: (3, 3)\n",
      "Weights for layer 3 shape: (1, 3)\n",
      "bias for layer 1 shape: (3, 1)\n",
      "bias for layer 2 shape: (3, 1)\n",
      "bias for layer 3 shape: (1, 1)\n"
     ]
    }
   ],
   "source": [
    "print(\"Weights for layer 1 shape:\", W1.shape)\n",
    "print(\"Weights for layer 2 shape:\", W2.shape)\n",
    "print(\"Weights for layer 3 shape:\", W3.shape)\n",
    "print(\"bias for layer 1 shape:\", b1.shape)\n",
    "print(\"bias for layer 2 shape:\", b2.shape)\n",
    "print(\"bias for layer 3 shape:\", b3.shape)"
   ]
  },
  {
   "cell_type": "code",
   "execution_count": 7,
   "id": "cf6a826a-1aa5-420c-a062-2375ae7d200b",
   "metadata": {},
   "outputs": [
    {
     "data": {
      "text/plain": [
       "array([[ 0.18427883,  0.3547399 ],\n",
       "       [-0.53600192, -1.25291115],\n",
       "       [ 0.79459267, -1.06819156]])"
      ]
     },
     "execution_count": 7,
     "metadata": {},
     "output_type": "execute_result"
    }
   ],
   "source": [
    "W1"
   ]
  },
  {
   "cell_type": "code",
   "execution_count": 8,
   "id": "0e7d6ea8-bc32-4524-a7cf-aca848d1305d",
   "metadata": {},
   "outputs": [
    {
     "name": "stdout",
     "output_type": "stream",
     "text": [
      "(10, 2)\n"
     ]
    }
   ],
   "source": [
    "X = np.array([\n",
    "    [150, 70],\n",
    "    [254, 73],\n",
    "    [312, 68],\n",
    "    [120, 60],\n",
    "    [154, 61],\n",
    "    [212, 65],\n",
    "    [216, 67],\n",
    "    [145, 67],\n",
    "    [184, 64],\n",
    "    [130, 69]\n",
    "])\n",
    "\n",
    "print(X.shape)"
   ]
  },
  {
   "cell_type": "code",
   "execution_count": 9,
   "id": "7335f8ea-6344-46df-8018-c4fe7a869843",
   "metadata": {},
   "outputs": [
    {
     "name": "stdout",
     "output_type": "stream",
     "text": [
      "(2, 10)\n"
     ]
    }
   ],
   "source": [
    "A0 = X.T\n",
    "print(A0.shape)"
   ]
  },
  {
   "cell_type": "code",
   "execution_count": 10,
   "id": "3ffd9b32-40eb-4017-929d-4a9727f5a51c",
   "metadata": {},
   "outputs": [
    {
     "data": {
      "text/plain": [
       "(1, 10)"
      ]
     },
     "execution_count": 10,
     "metadata": {},
     "output_type": "execute_result"
    }
   ],
   "source": [
    "y = np.array([\n",
    "    0,\n",
    "    1, \n",
    "    1,\n",
    "    0,\n",
    "    0,\n",
    "    1,\n",
    "    1,\n",
    "    0,\n",
    "    1,\n",
    "    0\n",
    "])\n",
    "m = 10\n",
    "\n",
    "Y = y.reshape(n[3], m)\n",
    "Y.shape"
   ]
  },
  {
   "cell_type": "code",
   "execution_count": 11,
   "id": "5e502b86-fbec-421a-a3b3-3cd16c8cec56",
   "metadata": {},
   "outputs": [],
   "source": [
    "def sigmoid(arr):\n",
    "    return 1 / (1 + np.exp(-1 * arr))"
   ]
  },
  {
   "cell_type": "code",
   "execution_count": 12,
   "id": "3abf4874-0a6b-44ad-b0ad-d21ccaa8c242",
   "metadata": {},
   "outputs": [
    {
     "data": {
      "text/plain": [
       "array([7.31058579e-01, 8.80797078e-01, 9.52574127e-01, 4.24835426e-18,\n",
       "       1.00000000e+00])"
      ]
     },
     "execution_count": 12,
     "metadata": {},
     "output_type": "execute_result"
    }
   ],
   "source": [
    "sigmoid(np.array([1, 2, 3, -40, 100]))"
   ]
  },
  {
   "cell_type": "code",
   "execution_count": 13,
   "id": "eef21ad4-d342-496a-a675-64e337fd44e1",
   "metadata": {},
   "outputs": [],
   "source": [
    "m = 10\n",
    "# layer 1 calculations\n",
    "Z1 = W1 @ A0 + b1 # @ means matrix multiplication\n",
    "\n",
    "assert Z1.shape == (n[1], m) # checking if shapes are ok\n",
    "A1 = sigmoid(Z1)\n",
    "\n",
    "# layer 2 calculations\n",
    "Z2 = W2 @ A1 + b2\n",
    "assert Z2.shape == (n[2], m)\n",
    "A2 = sigmoid(Z2)\n",
    "\n",
    "# layer 3 calculations\n",
    "Z3 = W3 @ A2 + b3\n",
    "assert Z3.shape == (n[3], m)\n",
    "A3 = sigmoid(Z3)"
   ]
  },
  {
   "cell_type": "code",
   "execution_count": 14,
   "id": "058475e4-72dc-4552-9a5a-e8aecee0dd05",
   "metadata": {},
   "outputs": [
    {
     "name": "stdout",
     "output_type": "stream",
     "text": [
      "(1, 10)\n",
      "[[0.12948002 0.12948002 0.12948002 0.12948002 0.12948002 0.12948002\n",
      "  0.12948002 0.12948002 0.12948002 0.12948002]]\n"
     ]
    }
   ],
   "source": [
    "print(A3.shape)\n",
    "y_hat = A3\n",
    "print(y_hat)"
   ]
  },
  {
   "cell_type": "markdown",
   "id": "486d7cbc-2451-4a2c-9514-6d3bb9c1fe27",
   "metadata": {},
   "source": [
    "### organized version:"
   ]
  },
  {
   "cell_type": "code",
   "execution_count": 15,
   "id": "edd31393-aabc-40c7-be81-e6064f4f72b0",
   "metadata": {},
   "outputs": [
    {
     "name": "stdout",
     "output_type": "stream",
     "text": [
      "[[0.3140535 0.3140535 0.3140535 0.3140535 0.3140535 0.3140535 0.3140535\n",
      "  0.3140535 0.3140535 0.3140535]]\n"
     ]
    }
   ],
   "source": [
    "import numpy as np\n",
    "\n",
    "# 1. network architecture\n",
    "L = 3\n",
    "n = [2, 3, 3, 1]\n",
    "\n",
    "# 2. weights and biases\n",
    "W1 = np.random.randn(n[1], n[0])\n",
    "W2 = np.random.randn(n[2], n[1])\n",
    "W3 = np.random.randn(n[3], n[2])\n",
    "b1 = np.random.randn(n[1], 1)\n",
    "b2 = np.random.randn(n[2], 1)\n",
    "b3 = np.random.randn(n[3], 1)\n",
    "\n",
    "# 3. training data and labels\n",
    "def prepare_data():\n",
    "    X = np.array([\n",
    "        [150, 70],\n",
    "        [254, 73],\n",
    "        [312, 68],\n",
    "        [120, 60],\n",
    "        [154, 61],\n",
    "        [212, 65],\n",
    "        [216, 67],\n",
    "        [145, 67],\n",
    "        [184, 64],\n",
    "        [130, 69]\n",
    "    ])\n",
    "    y = np.array([0, 1, 1, 0, 0, 1, 1, 0, 1, 0])\n",
    "    m = 10\n",
    "    A0 = X.T\n",
    "    Y = y.reshape(n[L], m)\n",
    "\n",
    "    return A0, Y\n",
    "\n",
    "# 4. activation function\n",
    "def sigmoid(arr):\n",
    "    return 1 / (1 + np.exp(-1 * arr))\n",
    "\n",
    "def feed_forward(A0):\n",
    "\n",
    "    # layer 1\n",
    "    Z1 = W1 @ A0 + b1\n",
    "    A1 = sigmoid(Z1)\n",
    "\n",
    "    # layer 2\n",
    "    Z2 = W2 @ A1 + b2\n",
    "    A2 = sigmoid(Z2)\n",
    "    \n",
    "    # layer 3\n",
    "    Z3 = W3 @ A2 + b3\n",
    "    A3 = sigmoid(Z3)\n",
    "\n",
    "    y_hat = A3\n",
    "    return y_hat\n",
    "\n",
    "A0, Y = prepare_data()\n",
    "y_hat = feed_forward(A0)\n",
    "print(y_hat)"
   ]
  },
  {
   "cell_type": "code",
   "execution_count": 16,
   "id": "593dc807-54e8-4ff3-8426-2a704b2ffe59",
   "metadata": {},
   "outputs": [
    {
     "data": {
      "text/plain": [
       "' Cost function examples:\\n    Mean squared error\\n    Root mean squared error\\n    Mean absolute error....\\n'"
      ]
     },
     "execution_count": 16,
     "metadata": {},
     "output_type": "execute_result"
    }
   ],
   "source": [
    "\"\"\" Cost function examples:\n",
    "    Mean squared error\n",
    "    Root mean squared error\n",
    "    Mean absolute error....\n",
    "\"\"\"\n",
    "# I'll use binary cross entropy loss function"
   ]
  },
  {
   "cell_type": "code",
   "execution_count": 17,
   "id": "48a0ec5c-5b4b-4b1e-9d82-b22df10ab95b",
   "metadata": {},
   "outputs": [],
   "source": [
    "def cost(y_hat, y):\n",
    "    losses = -((y * np.log(y_hat)) + (1 - y)*np.log(1 - y_hat))\n",
    "    m = y_hat.reshape(-1).shape[0]\n",
    "    summed_losses = (1 / m) * np.sum(losses, axis=1)\n",
    "    return np.sum(summed_losses)"
   ]
  },
  {
   "cell_type": "code",
   "execution_count": 18,
   "id": "2cbec011-5a13-4236-aa0a-c7a65cc24e11",
   "metadata": {},
   "outputs": [
    {
     "data": {
      "text/plain": [
       "0.7675737859135904"
      ]
     },
     "execution_count": 18,
     "metadata": {},
     "output_type": "execute_result"
    }
   ],
   "source": [
    "cost(y_hat, Y)"
   ]
  },
  {
   "cell_type": "code",
   "execution_count": 50,
   "id": "f3ab4241-a6ab-475f-943c-e3586ce96ae0",
   "metadata": {},
   "outputs": [],
   "source": [
    "import numpy as np\n",
    "\n",
    "L = 3\n",
    "n = [2, 3, 3, 1]\n",
    "W1 = np.random.randn(n[1], n[0])\n",
    "W2 = np.random.randn(n[2], n[1])\n",
    "W3 = np.random.randn(n[3], n[2])\n",
    "b1 = np.random.randn(n[1], 1)\n",
    "b2 = np.random.randn(n[2], 1)\n",
    "b3 = np.random.randn(n[3], 1)\n",
    "\n",
    "def prepare_data():\n",
    "  X = np.array([\n",
    "      [150, 70],\n",
    "      [254, 73],\n",
    "      [312, 68],\n",
    "      [120, 60],\n",
    "      [154, 61],\n",
    "      [212, 65],\n",
    "      [216, 67],\n",
    "      [145, 67],\n",
    "      [184, 64],\n",
    "      [130, 69]\n",
    "  ])\n",
    "  y = np.array([0,1,1,0,0,1,1,0,1,0])\n",
    "  m = 10\n",
    "  A0 = X.T\n",
    "  Y = y.reshape(n[L], m)\n",
    "\n",
    "  return A0, Y, m\n",
    "\n",
    "def cost(y_hat, y):\n",
    "  \"\"\"\n",
    "  y_hat should be a n^L x m matrix\n",
    "  y should be a n^L x m matrix\n",
    "  \"\"\"\n",
    "  # 1. losses is a n^L x m\n",
    "  losses = - ( (y * np.log(y_hat)) + (1 - y)*np.log(1 - y_hat) )\n",
    "\n",
    "  m = y_hat.reshape(-1).shape[0]\n",
    "\n",
    "  # 2. summing across axis = 1 means we sum across rows, \n",
    "  #   making this a n^L x 1 matrix\n",
    "  summed_losses = (1 / m) * np.sum(losses, axis=1)\n",
    "\n",
    "  # 3. unnecessary, but useful if working with more than one node\n",
    "  #   in output layer\n",
    "  return np.sum(summed_losses)\n",
    "\n",
    "def g(z):\n",
    "  return 1 / (1 + np.exp(-1 * z))\n",
    "\n",
    "def feed_forward(A0):\n",
    "  # layer 1 calculations\n",
    "  Z1 = W1 @ A0 + b1\n",
    "  A1 = g(Z1)\n",
    "\n",
    "  # layer 2 calculations\n",
    "  Z2 = W2 @ A1 + b2\n",
    "  A2 = g(Z2)\n",
    "\n",
    "  # layer 3 calculations\n",
    "  Z3 = W3 @ A2 + b3\n",
    "  A3 = g(Z3)\n",
    "\n",
    "  cache = {\n",
    "      \"A0\": A0,\n",
    "      \"A1\": A1,\n",
    "      \"A2\": A2\n",
    "  }\n",
    "\n",
    "  return A3, cache"
   ]
  },
  {
   "cell_type": "code",
   "execution_count": 51,
   "id": "9882ba13-e2b5-4f79-8d5f-07f4aeceb5e4",
   "metadata": {},
   "outputs": [],
   "source": [
    "A0, Y, m = prepare_data()"
   ]
  },
  {
   "cell_type": "code",
   "execution_count": 52,
   "id": "65b3b8c4-8b48-4e2b-9fee-8172922f4520",
   "metadata": {},
   "outputs": [],
   "source": [
    "def backprop_layer_3(y_hat, Y, m, A2, W3):\n",
    "  A3 = y_hat\n",
    "  \n",
    "  # step 1. calculate dC/dZ3 using shorthand we derived earlier\n",
    "  dC_dZ3 = (1/m) * (A3 - Y)\n",
    "  assert dC_dZ3.shape == (n[3], m)\n",
    "\n",
    "\n",
    "  # step 2. calculate dC/dW3 = dC/dZ3 * dZ3/dW3 \n",
    "  #   we matrix multiply dC/dZ3 with (dZ3/dW3)^T\n",
    "  dZ3_dW3 = A2\n",
    "  assert dZ3_dW3.shape == (n[2], m)\n",
    "\n",
    "  dC_dW3 = dC_dZ3 @ dZ3_dW3.T\n",
    "  assert dC_dW3.shape == (n[3], n[2])\n",
    "\n",
    "  # step 3. calculate dC/db3 = np.sum(dC/dZ3, axis=1, keepdims=True)\n",
    "  dC_db3 = np.sum(dC_dZ3, axis=1, keepdims=True)\n",
    "  assert dC_db3.shape == (n[3], 1)\n",
    "\n",
    "  # step 4. calculate propagator dC/dA2 = dC/dZ3 * dZ3/dA2\n",
    "  dZ3_dA2 = W3 \n",
    "  dC_dA2 = W3.T @ dC_dZ3\n",
    "  assert dC_dA2.shape == (n[2], m)\n",
    "\n",
    "  return dC_dW3, dC_db3, dC_dA2"
   ]
  },
  {
   "cell_type": "code",
   "execution_count": 53,
   "id": "b8d392ce-950d-4942-81ab-638bf1b141d2",
   "metadata": {},
   "outputs": [],
   "source": [
    "y_hat, cache = feed_forward(A0)\n",
    "dC_dW3, dC_db3, dC_dA2 = backprop_layer_3(\n",
    "  y_hat, \n",
    "  Y, \n",
    "  m, \n",
    "  A2= cache[\"A2\"], \n",
    "  W3= W3\n",
    ")"
   ]
  },
  {
   "cell_type": "code",
   "execution_count": 54,
   "id": "99ad7ca2-041c-4fa3-ad4f-06dfe81b1fe8",
   "metadata": {},
   "outputs": [],
   "source": [
    "def backprop_layer_2(propagator_dC_dA2, A1, A2, W2):\n",
    "\n",
    "  # step 1. calculate dC/dZ2 = dC/dA2 * dA2/dZ2\n",
    "\n",
    "  # use sigmoid derivation to arrive at this answer:\n",
    "  #   sigmoid'(z) = sigmoid(z) * (1 - sigmoid(z))\n",
    "  #     and if a = sigmoid(z), then sigmoid'(z) = a * (1 - a)\n",
    "  dA2_dZ2 = A2 * (1 - A2)\n",
    "  dC_dZ2 = propagator_dC_dA2 * dA2_dZ2\n",
    "  assert dC_dZ2.shape == (n[2], m)\n",
    "\n",
    "\n",
    "  # step 2. calculate dC/dW2 = dC/dZ2 * dZ2/dW2 \n",
    "  dZ2_dW2 = A1\n",
    "  assert dZ2_dW2.shape == (n[1], m)\n",
    "\n",
    "  dC_dW2 = dC_dZ2 @ dZ2_dW2.T\n",
    "  assert dC_dW2.shape == (n[2], n[1])\n",
    "\n",
    "  # step 3. calculate dC/db2 = np.sum(dC/dZ2, axis=1, keepdims=True)\n",
    "  dC_db2 = np.sum(dC_dW2, axis=1, keepdims=True)\n",
    "  assert dC_db2.shape == (n[2], 1)\n",
    "\n",
    "  # step 4. calculate propagator dC/dA1 = dC/dZ2 * dZ2/dA1\n",
    "  dZ2_dA1 = W2\n",
    "  dC_dA1 = W2.T @ dC_dZ2\n",
    "  assert dC_dA1.shape == (n[2], m)\n",
    "\n",
    "  return dC_dW2, dC_db2, dC_dA1\n",
    "\n",
    "def backprop_layer_1(propagator_dC_dA1, A1, A0, W1):\n",
    "\n",
    "  # step 1. calculate dC/dZ1 = dC/dA1 * dA1/dZ1\n",
    "\n",
    "  # use sigmoid derivation to arrive at this answer:\n",
    "  #   sigmoid'(z) = sigmoid(z) * (1 - sigmoid(z))\n",
    "  #     and if a = sigmoid(z), then sigmoid'(z) = a * (1 - a)\n",
    "  dA1_dZ1 = A1 * (1 - A1)\n",
    "  dC_dZ1 = propagator_dC_dA1 * dA1_dZ1\n",
    "  assert dC_dZ1.shape == (n[1], m)\n",
    "\n",
    "\n",
    "  # step 2. calculate dC/dW1 = dC/dZ1 * dZ1/dW1 \n",
    "  dZ1_dW1 = A0\n",
    "  assert dZ1_dW1.shape == (n[0], m)\n",
    "\n",
    "  dC_dW1 = dC_dZ1 @ dZ1_dW1.T\n",
    "  assert dC_dW1.shape == (n[1], n[0])\n",
    "\n",
    "  # step 3. calculate dC/db1 = np.sum(dC/dZ1, axis=1, keepdims=True)\n",
    "  dC_db1 = np.sum(dC_dW1, axis=1, keepdims=True)\n",
    "  assert dC_db1.shape == (n[1], 1)\n",
    "\n",
    "  return dC_dW1, dC_db1"
   ]
  },
  {
   "cell_type": "code",
   "execution_count": 55,
   "id": "045fe180-d350-46a0-94bf-d530b3f0dc62",
   "metadata": {},
   "outputs": [],
   "source": [
    "y_hat, cache = feed_forward(A0)\n",
    "\n",
    "dC_dW3, dC_db3, dC_dA2 = backprop_layer_3(\n",
    "    y_hat, \n",
    "    Y, \n",
    "    m, \n",
    "    A2= cache[\"A2\"], \n",
    "    W3= W3\n",
    ")\n",
    "\n",
    "dC_dW2, dC_db2, dC_dA1 = backprop_layer_2(\n",
    "    propagator_dC_dA2=dC_dA2, \n",
    "    A1=cache[\"A1\"],\n",
    "    A2=cache[\"A2\"],\n",
    "    W2=W2\n",
    ")\n",
    "\n",
    "dC_dW1, dC_db1 = backprop_layer_1(\n",
    "    propagator_dC_dA1=dC_dA1, \n",
    "    A1=cache[\"A1\"],\n",
    "    A0=cache[\"A0\"],\n",
    "    W1=W1\n",
    ")"
   ]
  },
  {
   "cell_type": "code",
   "execution_count": 56,
   "id": "65a69453-becb-4030-9aac-efe40db3db41",
   "metadata": {},
   "outputs": [],
   "source": [
    "def train():\n",
    "  # must use global keyword in order to modify global variables\n",
    "  global W3, W2, W1, b3, b2, b1\n",
    "\n",
    "  epochs = 1000 # training for 1000 iterations\n",
    "  alpha = 0.1 # set learning rate to 0.1\n",
    "  costs = [] # list to store costs\n",
    "\n",
    "  for e in range(epochs):\n",
    "    # 1. FEED FORWARD\n",
    "    y_hat, cache = feed_forward(A0)\n",
    "    \n",
    "    # 2. COST CALCULATION\n",
    "    error = cost(y_hat, Y)\n",
    "    costs.append(error)\n",
    "\n",
    "    # 3. BACKPROP CALCULATIONS\n",
    "\n",
    "    dC_dW3, dC_db3, dC_dA2 = backprop_layer_3(\n",
    "        y_hat, \n",
    "        Y, \n",
    "        m, \n",
    "        A2= cache[\"A2\"], \n",
    "        W3=W3\n",
    "    )\n",
    "\n",
    "    dC_dW2, dC_db2, dC_dA1 = backprop_layer_2(\n",
    "        propagator_dC_dA2=dC_dA2, \n",
    "        A1=cache[\"A1\"],\n",
    "        A2=cache[\"A2\"],\n",
    "        W2=W2\n",
    "    )\n",
    "\n",
    "    dC_dW1, dC_db1 = backprop_layer_1(\n",
    "        propagator_dC_dA1=dC_dA1, \n",
    "        A1=cache[\"A1\"],\n",
    "        A0=cache[\"A0\"],\n",
    "        W1=W1\n",
    "    )\n",
    "\n",
    "    # 4. UPDATE WEIGHTS\n",
    "    W3 = W3 - (alpha * dC_dW3)\n",
    "    W2 = W2 - (alpha * dC_dW2)\n",
    "    W1 = W1 - (alpha * dC_dW1)\n",
    "\n",
    "    b3 = b3 - (alpha * dC_db3)\n",
    "    b2 = b2 - (alpha * dC_db2)\n",
    "    b1 = b1 - (alpha * dC_db1)\n",
    "\n",
    "\n",
    "    if e % 20 == 0:\n",
    "      print(f\"epoch {e}: cost = {error:4f}\")\n",
    "  \n",
    "  return costs"
   ]
  },
  {
   "cell_type": "code",
   "execution_count": 57,
   "id": "2622fd6a-06b2-47cd-9874-ed4fa34f7ad6",
   "metadata": {},
   "outputs": [
    {
     "name": "stdout",
     "output_type": "stream",
     "text": [
      "epoch 0: cost = 0.795079\n",
      "epoch 20: cost = 0.709762\n",
      "epoch 40: cost = 0.695656\n",
      "epoch 60: cost = 0.693521\n",
      "epoch 80: cost = 0.693203\n",
      "epoch 100: cost = 0.693155\n",
      "epoch 120: cost = 0.693148\n",
      "epoch 140: cost = 0.693147\n",
      "epoch 160: cost = 0.693147\n",
      "epoch 180: cost = 0.693147\n",
      "epoch 200: cost = 0.693147\n",
      "epoch 220: cost = 0.693147\n",
      "epoch 240: cost = 0.693147\n",
      "epoch 260: cost = 0.693147\n",
      "epoch 280: cost = 0.693147\n",
      "epoch 300: cost = 0.693147\n",
      "epoch 320: cost = 0.693147\n",
      "epoch 340: cost = 0.693147\n",
      "epoch 360: cost = 0.693147\n",
      "epoch 380: cost = 0.693147\n",
      "epoch 400: cost = 0.693147\n",
      "epoch 420: cost = 0.693147\n",
      "epoch 440: cost = 0.693147\n",
      "epoch 460: cost = 0.693147\n",
      "epoch 480: cost = 0.693147\n",
      "epoch 500: cost = 0.693147\n",
      "epoch 520: cost = 0.693147\n",
      "epoch 540: cost = 0.693147\n",
      "epoch 560: cost = 0.693147\n",
      "epoch 580: cost = 0.693147\n",
      "epoch 600: cost = 0.693147\n",
      "epoch 620: cost = 0.693147\n",
      "epoch 640: cost = 0.693147\n",
      "epoch 660: cost = 0.693147\n",
      "epoch 680: cost = 0.693147\n",
      "epoch 700: cost = 0.693147\n",
      "epoch 720: cost = 0.693147\n",
      "epoch 740: cost = 0.693147\n",
      "epoch 760: cost = 0.693147\n",
      "epoch 780: cost = 0.693147\n",
      "epoch 800: cost = 0.693147\n",
      "epoch 820: cost = 0.693147\n",
      "epoch 840: cost = 0.693147\n",
      "epoch 860: cost = 0.693147\n",
      "epoch 880: cost = 0.693147\n",
      "epoch 900: cost = 0.693147\n",
      "epoch 920: cost = 0.693147\n",
      "epoch 940: cost = 0.693147\n",
      "epoch 960: cost = 0.693147\n",
      "epoch 980: cost = 0.693147\n"
     ]
    }
   ],
   "source": [
    "costs = train()"
   ]
  },
  {
   "cell_type": "code",
   "execution_count": null,
   "id": "bbecd1a3-c013-4ce5-98da-506b141f21bc",
   "metadata": {},
   "outputs": [],
   "source": []
  },
  {
   "cell_type": "code",
   "execution_count": null,
   "id": "9ce79070-5b18-4c25-94c6-ecd799041570",
   "metadata": {},
   "outputs": [],
   "source": []
  },
  {
   "cell_type": "code",
   "execution_count": null,
   "id": "e690bc78-d5ba-41c1-bf09-c82f8070f1f5",
   "metadata": {},
   "outputs": [],
   "source": []
  }
 ],
 "metadata": {
  "kernelspec": {
   "display_name": "Python 3 (ipykernel)",
   "language": "python",
   "name": "python3"
  },
  "language_info": {
   "codemirror_mode": {
    "name": "ipython",
    "version": 3
   },
   "file_extension": ".py",
   "mimetype": "text/x-python",
   "name": "python",
   "nbconvert_exporter": "python",
   "pygments_lexer": "ipython3",
   "version": "3.12.3"
  }
 },
 "nbformat": 4,
 "nbformat_minor": 5
}
